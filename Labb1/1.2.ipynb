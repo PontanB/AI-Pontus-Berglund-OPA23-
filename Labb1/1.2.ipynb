{
 "cells": [
  {
   "cell_type": "code",
   "execution_count": 3,
   "metadata": {},
   "outputs": [
    {
     "name": "stderr",
     "output_type": "stream",
     "text": [
      "c:\\Users\\Pontus\\Codes\\Github\\AI-Pontus-Berglund-OPA23-\\venv\\Lib\\site-packages\\fuzzywuzzy\\fuzz.py:11: UserWarning: Using slow pure-python SequenceMatcher. Install python-Levenshtein to remove this warning\n",
      "  warnings.warn('Using slow pure-python SequenceMatcher. Install python-Levenshtein to remove this warning')\n"
     ]
    }
   ],
   "source": [
    "import pandas as pd \n",
    "from scipy.sparse import csr_matrix\n",
    "from fuzzywuzzy import process\n"
   ]
  },
  {
   "cell_type": "code",
   "execution_count": 4,
   "metadata": {},
   "outputs": [],
   "source": [
    "movies = \"../data/ml-latest/movies.csv\"\n",
    "ratings = \"../data/ml-latest/ratings.csv\"\n",
    "\n",
    "df_movies = pd.read_csv(movies, usecols = [\"movieId\", \"title\"], dtype={\"movieId\":\"int32\", \"title\":\"str\"})\n",
    "df_ratings = pd.read_csv(ratings, usecols = [\"userId\", \"movieId\", \"rating\"], dtype={\"userId\":\"int32\", \"movieId\":\"int32\",  \"rating\":\"float32\"})"
   ]
  },
  {
   "cell_type": "code",
   "execution_count": 5,
   "metadata": {},
   "outputs": [
    {
     "data": {
      "text/html": [
       "<div>\n",
       "<style scoped>\n",
       "    .dataframe tbody tr th:only-of-type {\n",
       "        vertical-align: middle;\n",
       "    }\n",
       "\n",
       "    .dataframe tbody tr th {\n",
       "        vertical-align: top;\n",
       "    }\n",
       "\n",
       "    .dataframe thead th {\n",
       "        text-align: right;\n",
       "    }\n",
       "</style>\n",
       "<table border=\"1\" class=\"dataframe\">\n",
       "  <thead>\n",
       "    <tr style=\"text-align: right;\">\n",
       "      <th></th>\n",
       "      <th>userId</th>\n",
       "      <th>movieId</th>\n",
       "      <th>rating</th>\n",
       "    </tr>\n",
       "  </thead>\n",
       "  <tbody>\n",
       "    <tr>\n",
       "      <th>0</th>\n",
       "      <td>1</td>\n",
       "      <td>1</td>\n",
       "      <td>4.0</td>\n",
       "    </tr>\n",
       "    <tr>\n",
       "      <th>1</th>\n",
       "      <td>1</td>\n",
       "      <td>110</td>\n",
       "      <td>4.0</td>\n",
       "    </tr>\n",
       "    <tr>\n",
       "      <th>2</th>\n",
       "      <td>1</td>\n",
       "      <td>158</td>\n",
       "      <td>4.0</td>\n",
       "    </tr>\n",
       "    <tr>\n",
       "      <th>3</th>\n",
       "      <td>1</td>\n",
       "      <td>260</td>\n",
       "      <td>4.5</td>\n",
       "    </tr>\n",
       "    <tr>\n",
       "      <th>4</th>\n",
       "      <td>1</td>\n",
       "      <td>356</td>\n",
       "      <td>5.0</td>\n",
       "    </tr>\n",
       "  </tbody>\n",
       "</table>\n",
       "</div>"
      ],
      "text/plain": [
       "   userId  movieId  rating\n",
       "0       1        1     4.0\n",
       "1       1      110     4.0\n",
       "2       1      158     4.0\n",
       "3       1      260     4.5\n",
       "4       1      356     5.0"
      ]
     },
     "execution_count": 5,
     "metadata": {},
     "output_type": "execute_result"
    }
   ],
   "source": [
    "df_ratings.head()"
   ]
  },
  {
   "cell_type": "code",
   "execution_count": 19,
   "metadata": {},
   "outputs": [
    {
     "name": "stdout",
     "output_type": "stream",
     "text": [
      "userId   189614  48766   207216  175998  76618   230765  184775  236260  \\\n",
      "movieId                                                                   \n",
      "1           4.0     3.5     4.0     3.0     5.0     5.0     3.0     5.0   \n",
      "2           3.0     1.5     4.0     3.0     1.0     4.0     3.0     3.0   \n",
      "3           0.0     3.0     3.0     0.0     1.5     4.0     2.0     2.5   \n",
      "5           2.5     2.5     3.0     0.0     1.0     5.0     2.5     1.5   \n",
      "6           4.0     4.0     4.0     3.5     3.0     4.0     5.0     4.0   \n",
      "...         ...     ...     ...     ...     ...     ...     ...     ...   \n",
      "187593      3.5     0.0     0.0     3.0     2.0     4.0     4.0     0.0   \n",
      "195159      4.0     0.0     0.0     3.5     5.0     4.0     4.0     0.0   \n",
      "202439      4.0     3.0     0.0     4.5     4.5     4.5     4.0     0.0   \n",
      "204698      0.0     4.0     0.0     2.5     3.0     3.5     4.0     0.0   \n",
      "207313      0.0     3.5     0.0     3.5     4.0     4.5     3.0     0.0   \n",
      "\n",
      "userId   233891  214831  ...  2424    12239   306738  125944  294768  112624  \\\n",
      "movieId                  ...                                                   \n",
      "1           5.0     5.0  ...     3.0     0.0     0.0     0.0     0.0     0.0   \n",
      "2           4.0     0.5  ...     0.0     0.0     0.0     0.0     0.0     0.0   \n",
      "3           3.0     0.5  ...     3.0     0.0     0.0     0.0     0.0     0.0   \n",
      "5           4.0     1.0  ...     3.0     0.0     0.0     0.0     0.0     0.0   \n",
      "6           5.0     4.0  ...     4.0     0.0     0.0     0.0     0.0     0.0   \n",
      "...         ...     ...  ...     ...     ...     ...     ...     ...     ...   \n",
      "187593      3.0     2.5  ...     0.0     0.0     0.0     0.0     0.0     0.0   \n",
      "195159      0.5     4.5  ...     0.0     0.0     0.0     0.0     0.0     0.0   \n",
      "202439      5.0     1.0  ...     0.0     0.0     0.0     0.0     0.0     0.0   \n",
      "204698      3.0     1.5  ...     0.0     0.0     0.0     0.0     0.0     0.0   \n",
      "207313      0.0     4.5  ...     0.0     0.0     0.0     0.0     0.0     0.0   \n",
      "\n",
      "userId   330562  330485  197139  2429    \n",
      "movieId                                  \n",
      "1           0.0     0.0     4.0     0.0  \n",
      "2           0.0     0.0     0.0     0.0  \n",
      "3           0.0     0.0     0.0     0.0  \n",
      "5           0.0     0.0     3.0     0.0  \n",
      "6           0.0     0.0     0.0     0.0  \n",
      "...         ...     ...     ...     ...  \n",
      "187593      0.0     0.0     0.0     0.0  \n",
      "195159      0.0     0.0     0.0     0.0  \n",
      "202439      0.0     0.0     0.0     0.0  \n",
      "204698      0.0     0.0     0.0     0.0  \n",
      "207313      0.0     0.0     0.0     0.0  \n",
      "\n",
      "[840 rows x 204284 columns]\n"
     ]
    }
   ],
   "source": [
    "total_ratings = df_ratings['movieId'].value_counts()\n",
    "top_rated_movies = total_ratings[total_ratings >= 10000]\n",
    "top_rated_movies_data = df_ratings[df_ratings['movieId'].isin(top_rated_movies.index)]\n",
    "top_rated_movies_avg = top_rated_movies_data.groupby('movieId')['rating'].mean().reset_index()\n",
    "top_rated_movies_avg_filtered = top_rated_movies_avg[top_rated_movies_avg['rating'] >= 3]\n",
    "top_rated_movies_titles = top_rated_movies_avg_filtered.merge(df_movies, on='movieId')\n",
    "\n",
    "# Skapa pivot-tabell med movieId på x-axeln och userId på y-axeln, med rating som värden\n",
    "\n",
    "pivot_table_ratings = pd.pivot(top_rated_movies_data, values='rating', index='movieId', columns='userId').fillna(0)\n",
    "user_counts = df_ratings['userId'].value_counts()\n",
    "users_to_keep = user_counts[user_counts >= 20].index\n",
    "# Help from chatgpt\n",
    "users_to_keep = [user for user in users_to_keep if user in pivot_table_ratings.columns]\n",
    "pivot_table_ratings = pivot_table_ratings.loc[:, users_to_keep]\n",
    "\n",
    "print(pivot_table_ratings)"
   ]
  },
  {
   "cell_type": "code",
   "execution_count": 20,
   "metadata": {},
   "outputs": [
    {
     "name": "stdout",
     "output_type": "stream",
     "text": [
      "  (0, 0)\t4.0\n",
      "  (0, 1)\t3.5\n",
      "  (0, 2)\t4.0\n",
      "  (0, 3)\t3.0\n",
      "  (0, 4)\t5.0\n",
      "  (0, 5)\t5.0\n",
      "  (0, 6)\t3.0\n",
      "  (0, 7)\t5.0\n",
      "  (0, 8)\t5.0\n",
      "  (0, 9)\t5.0\n",
      "  (0, 10)\t3.0\n",
      "  (0, 12)\t4.0\n",
      "  (0, 13)\t4.0\n",
      "  (0, 14)\t3.0\n",
      "  (0, 15)\t4.5\n",
      "  (0, 16)\t3.5\n",
      "  (0, 17)\t2.5\n",
      "  (0, 18)\t3.5\n",
      "  (0, 19)\t4.0\n",
      "  (0, 20)\t5.0\n",
      "  (0, 21)\t5.0\n",
      "  (0, 23)\t4.0\n",
      "  (0, 24)\t2.0\n",
      "  (0, 25)\t4.0\n",
      "  (0, 26)\t4.0\n",
      "  :\t:\n",
      "  (839, 200317)\t3.0\n",
      "  (839, 200531)\t4.0\n",
      "  (839, 201111)\t3.5\n",
      "  (839, 201147)\t4.0\n",
      "  (839, 201226)\t5.0\n",
      "  (839, 201235)\t5.0\n",
      "  (839, 201243)\t4.5\n",
      "  (839, 201363)\t5.0\n",
      "  (839, 201380)\t5.0\n",
      "  (839, 201421)\t5.0\n",
      "  (839, 202167)\t5.0\n",
      "  (839, 202172)\t4.0\n",
      "  (839, 202225)\t5.0\n",
      "  (839, 202428)\t5.0\n",
      "  (839, 202431)\t4.0\n",
      "  (839, 202454)\t5.0\n",
      "  (839, 202582)\t4.0\n",
      "  (839, 202604)\t4.0\n",
      "  (839, 202628)\t4.0\n",
      "  (839, 202943)\t5.0\n",
      "  (839, 203081)\t5.0\n",
      "  (839, 203635)\t5.0\n",
      "  (839, 203719)\t4.5\n",
      "  (839, 203851)\t3.5\n",
      "  (839, 203972)\t3.5\n"
     ]
    }
   ],
   "source": [
    "sparse_matrix = csr_matrix(pivot_table_ratings.values)\n",
    "\n",
    "print(sparse_matrix)"
   ]
  },
  {
   "cell_type": "code",
   "execution_count": null,
   "metadata": {},
   "outputs": [],
   "source": []
  }
 ],
 "metadata": {
  "kernelspec": {
   "display_name": "venv",
   "language": "python",
   "name": "python3"
  },
  "language_info": {
   "codemirror_mode": {
    "name": "ipython",
    "version": 3
   },
   "file_extension": ".py",
   "mimetype": "text/x-python",
   "name": "python",
   "nbconvert_exporter": "python",
   "pygments_lexer": "ipython3",
   "version": "3.11.7"
  }
 },
 "nbformat": 4,
 "nbformat_minor": 2
}
